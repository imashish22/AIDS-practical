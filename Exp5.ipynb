{
 "cells": [
  {
   "cell_type": "code",
   "execution_count": null,
   "metadata": {},
   "outputs": [],
   "source": []
  },
  {
   "cell_type": "code",
   "execution_count": 2,
   "metadata": {},
   "outputs": [],
   "source": [
    "#import pandas\n",
    "import pandas as pd\n",
    "#import numpy\n",
    "import numpy as np\n",
    "#import matplotlib\n",
    "import matplotlib.pyplot as plt\n",
    "#import seaborn\n",
    "import seaborn as sns\n",
    "import sklearn"
   ]
  },
  {
   "cell_type": "code",
   "execution_count": 3,
   "metadata": {},
   "outputs": [
    {
     "data": {
      "text/html": [
       "<div>\n",
       "<style scoped>\n",
       "    .dataframe tbody tr th:only-of-type {\n",
       "        vertical-align: middle;\n",
       "    }\n",
       "\n",
       "    .dataframe tbody tr th {\n",
       "        vertical-align: top;\n",
       "    }\n",
       "\n",
       "    .dataframe thead th {\n",
       "        text-align: right;\n",
       "    }\n",
       "</style>\n",
       "<table border=\"1\" class=\"dataframe\">\n",
       "  <thead>\n",
       "    <tr style=\"text-align: right;\">\n",
       "      <th></th>\n",
       "      <th>status</th>\n",
       "      <th>bed</th>\n",
       "      <th>bath</th>\n",
       "      <th>acre_lot</th>\n",
       "      <th>city</th>\n",
       "      <th>state</th>\n",
       "      <th>zip_code</th>\n",
       "      <th>house_size</th>\n",
       "      <th>price</th>\n",
       "    </tr>\n",
       "  </thead>\n",
       "  <tbody>\n",
       "    <tr>\n",
       "      <th>0</th>\n",
       "      <td>for_sale</td>\n",
       "      <td>1</td>\n",
       "      <td>1</td>\n",
       "      <td>20.20</td>\n",
       "      <td>Wilbraham</td>\n",
       "      <td>Massachusetts</td>\n",
       "      <td>1095</td>\n",
       "      <td>1751</td>\n",
       "      <td>299000</td>\n",
       "    </tr>\n",
       "    <tr>\n",
       "      <th>1</th>\n",
       "      <td>sold</td>\n",
       "      <td>1</td>\n",
       "      <td>2</td>\n",
       "      <td>0.28</td>\n",
       "      <td>Agawam</td>\n",
       "      <td>Massachusetts</td>\n",
       "      <td>1030</td>\n",
       "      <td>1060</td>\n",
       "      <td>300000</td>\n",
       "    </tr>\n",
       "    <tr>\n",
       "      <th>2</th>\n",
       "      <td>for_sale</td>\n",
       "      <td>4</td>\n",
       "      <td>2</td>\n",
       "      <td>0.16</td>\n",
       "      <td>Springfield</td>\n",
       "      <td>Massachusetts</td>\n",
       "      <td>1105</td>\n",
       "      <td>1402</td>\n",
       "      <td>199900</td>\n",
       "    </tr>\n",
       "    <tr>\n",
       "      <th>3</th>\n",
       "      <td>for_sale</td>\n",
       "      <td>5</td>\n",
       "      <td>1</td>\n",
       "      <td>0.13</td>\n",
       "      <td>Holyoke</td>\n",
       "      <td>Massachusetts</td>\n",
       "      <td>1040</td>\n",
       "      <td>1327</td>\n",
       "      <td>300000</td>\n",
       "    </tr>\n",
       "    <tr>\n",
       "      <th>4</th>\n",
       "      <td>for_sale</td>\n",
       "      <td>3</td>\n",
       "      <td>1</td>\n",
       "      <td>0.13</td>\n",
       "      <td>West Springfield</td>\n",
       "      <td>Massachusetts</td>\n",
       "      <td>1089</td>\n",
       "      <td>1715</td>\n",
       "      <td>299000</td>\n",
       "    </tr>\n",
       "    <tr>\n",
       "      <th>...</th>\n",
       "      <td>...</td>\n",
       "      <td>...</td>\n",
       "      <td>...</td>\n",
       "      <td>...</td>\n",
       "      <td>...</td>\n",
       "      <td>...</td>\n",
       "      <td>...</td>\n",
       "      <td>...</td>\n",
       "      <td>...</td>\n",
       "    </tr>\n",
       "    <tr>\n",
       "      <th>8041</th>\n",
       "      <td>for_sale</td>\n",
       "      <td>2</td>\n",
       "      <td>1</td>\n",
       "      <td>0.20</td>\n",
       "      <td>East Hartford</td>\n",
       "      <td>Connecticut</td>\n",
       "      <td>6118</td>\n",
       "      <td>1893</td>\n",
       "      <td>190000</td>\n",
       "    </tr>\n",
       "    <tr>\n",
       "      <th>8042</th>\n",
       "      <td>sold</td>\n",
       "      <td>4</td>\n",
       "      <td>2</td>\n",
       "      <td>0.42</td>\n",
       "      <td>Enfield</td>\n",
       "      <td>Connecticut</td>\n",
       "      <td>6082</td>\n",
       "      <td>1413</td>\n",
       "      <td>269900</td>\n",
       "    </tr>\n",
       "    <tr>\n",
       "      <th>8043</th>\n",
       "      <td>for_sale</td>\n",
       "      <td>5</td>\n",
       "      <td>1</td>\n",
       "      <td>0.98</td>\n",
       "      <td>Somers</td>\n",
       "      <td>Connecticut</td>\n",
       "      <td>6071</td>\n",
       "      <td>1520</td>\n",
       "      <td>349900</td>\n",
       "    </tr>\n",
       "    <tr>\n",
       "      <th>8044</th>\n",
       "      <td>for_sale</td>\n",
       "      <td>2</td>\n",
       "      <td>2</td>\n",
       "      <td>2.07</td>\n",
       "      <td>Haddam</td>\n",
       "      <td>Connecticut</td>\n",
       "      <td>6438</td>\n",
       "      <td>1726</td>\n",
       "      <td>799000</td>\n",
       "    </tr>\n",
       "    <tr>\n",
       "      <th>8045</th>\n",
       "      <td>for_sale</td>\n",
       "      <td>1</td>\n",
       "      <td>1</td>\n",
       "      <td>0.28</td>\n",
       "      <td>Meriden</td>\n",
       "      <td>Connecticut</td>\n",
       "      <td>6450</td>\n",
       "      <td>1058</td>\n",
       "      <td>229900</td>\n",
       "    </tr>\n",
       "  </tbody>\n",
       "</table>\n",
       "<p>8046 rows × 9 columns</p>\n",
       "</div>"
      ],
      "text/plain": [
       "        status  bed  bath  acre_lot              city          state  \\\n",
       "0     for_sale    1     1     20.20         Wilbraham  Massachusetts   \n",
       "1         sold    1     2      0.28            Agawam  Massachusetts   \n",
       "2     for_sale    4     2      0.16       Springfield  Massachusetts   \n",
       "3     for_sale    5     1      0.13           Holyoke  Massachusetts   \n",
       "4     for_sale    3     1      0.13  West Springfield  Massachusetts   \n",
       "...        ...  ...   ...       ...               ...            ...   \n",
       "8041  for_sale    2     1      0.20     East Hartford    Connecticut   \n",
       "8042      sold    4     2      0.42           Enfield    Connecticut   \n",
       "8043  for_sale    5     1      0.98            Somers    Connecticut   \n",
       "8044  for_sale    2     2      2.07            Haddam    Connecticut   \n",
       "8045  for_sale    1     1      0.28           Meriden    Connecticut   \n",
       "\n",
       "      zip_code  house_size   price  \n",
       "0         1095        1751  299000  \n",
       "1         1030        1060  300000  \n",
       "2         1105        1402  199900  \n",
       "3         1040        1327  300000  \n",
       "4         1089        1715  299000  \n",
       "...        ...         ...     ...  \n",
       "8041      6118        1893  190000  \n",
       "8042      6082        1413  269900  \n",
       "8043      6071        1520  349900  \n",
       "8044      6438        1726  799000  \n",
       "8045      6450        1058  229900  \n",
       "\n",
       "[8046 rows x 9 columns]"
      ]
     },
     "execution_count": 3,
     "metadata": {},
     "output_type": "execute_result"
    }
   ],
   "source": [
    "# use pandas to import csv file\n",
    "df = pd.read_csv(\"realestate.csv\")\n",
    "# too see max columns\n",
    "pd.set_option('display.max_columns',None)\n",
    "# print dataframe\n",
    "df"
   ]
  },
  {
   "cell_type": "code",
   "execution_count": 6,
   "metadata": {},
   "outputs": [
    {
     "name": "stdout",
     "output_type": "stream",
     "text": [
      "<class 'pandas.core.frame.DataFrame'>\n",
      "RangeIndex: 8046 entries, 0 to 8045\n",
      "Data columns (total 9 columns):\n",
      " #   Column      Non-Null Count  Dtype  \n",
      "---  ------      --------------  -----  \n",
      " 0   status      8046 non-null   object \n",
      " 1   bed         8046 non-null   int64  \n",
      " 2   bath        8046 non-null   int64  \n",
      " 3   acre_lot    8046 non-null   float64\n",
      " 4   city        8046 non-null   object \n",
      " 5   state       8046 non-null   object \n",
      " 6   zip_code    8046 non-null   int64  \n",
      " 7   house_size  8046 non-null   int64  \n",
      " 8   price       8046 non-null   int64  \n",
      "dtypes: float64(1), int64(5), object(3)\n",
      "memory usage: 565.9+ KB\n"
     ]
    }
   ],
   "source": [
    "df.info()"
   ]
  },
  {
   "cell_type": "code",
   "execution_count": 5,
   "metadata": {},
   "outputs": [
    {
     "name": "stdout",
     "output_type": "stream",
     "text": [
      "status        0\n",
      "bed           0\n",
      "bath          0\n",
      "acre_lot      0\n",
      "city          0\n",
      "state         0\n",
      "zip_code      0\n",
      "house_size    0\n",
      "price         0\n",
      "dtype: int64\n",
      "Missing values distribution: \n",
      "status        0.0\n",
      "bed           0.0\n",
      "bath          0.0\n",
      "acre_lot      0.0\n",
      "city          0.0\n",
      "state         0.0\n",
      "zip_code      0.0\n",
      "house_size    0.0\n",
      "price         0.0\n",
      "dtype: float64\n"
     ]
    }
   ],
   "source": [
    "#New dataframe \n",
    "new_df = df\n",
    "#Checking for null values \n",
    "print(new_df.isnull().sum()) \n",
    "print(\"Missing values distribution: \")\n",
    "print(new_df.isnull().mean())"
   ]
  },
  {
   "cell_type": "code",
   "execution_count": 7,
   "metadata": {},
   "outputs": [
    {
     "name": "stdout",
     "output_type": "stream",
     "text": [
      "True\n"
     ]
    }
   ],
   "source": [
    "# #Checking for duplicates\n",
    "print(new_df.duplicated().any()) "
   ]
  },
  {
   "cell_type": "code",
   "execution_count": 8,
   "metadata": {},
   "outputs": [
    {
     "name": "stdout",
     "output_type": "stream",
     "text": [
      "0       False\n",
      "1       False\n",
      "2       False\n",
      "3       False\n",
      "4       False\n",
      "        ...  \n",
      "8041    False\n",
      "8042    False\n",
      "8043    False\n",
      "8044    False\n",
      "8045    False\n",
      "Length: 8046, dtype: bool\n",
      "(8046, 9)\n"
     ]
    }
   ],
   "source": [
    "print(new_df.duplicated())\n",
    "print(new_df.shape) "
   ]
  },
  {
   "cell_type": "code",
   "execution_count": 9,
   "metadata": {},
   "outputs": [
    {
     "name": "stdout",
     "output_type": "stream",
     "text": [
      "  status  bed  bath  acre_lot              city          state  zip_code  \\\n",
      "0      0    1     1     20.20         Wilbraham  Massachusetts      1095   \n",
      "1      1    1     2      0.28            Agawam  Massachusetts      1030   \n",
      "2      0    4     2      0.16       Springfield  Massachusetts      1105   \n",
      "3      0    5     1      0.13           Holyoke  Massachusetts      1040   \n",
      "4      0    3     1      0.13  West Springfield  Massachusetts      1089   \n",
      "\n",
      "   house_size   price  \n",
      "0        1751  299000  \n",
      "1        1060  300000  \n",
      "2        1402  199900  \n",
      "3        1327  300000  \n",
      "4        1715  299000  \n"
     ]
    },
    {
     "name": "stderr",
     "output_type": "stream",
     "text": [
      "C:\\Users\\imjha\\AppData\\Local\\Temp\\ipykernel_6504\\2292501783.py:2: FutureWarning: A value is trying to be set on a copy of a DataFrame or Series through chained assignment using an inplace method.\n",
      "The behavior will change in pandas 3.0. This inplace method will never work because the intermediate object on which we are setting values always behaves as a copy.\n",
      "\n",
      "For example, when doing 'df[col].method(value, inplace=True)', try using 'df.method({col: value}, inplace=True)' or df[col] = df[col].method(value) instead, to perform the operation inplace on the original object.\n",
      "\n",
      "\n",
      "  new_df[\"status\"].replace({\"for_sale\":\"0\", \"sold\":\"1\"}, inplace = True)\n"
     ]
    }
   ],
   "source": [
    "#Replacing string values with integer \n",
    "new_df[\"status\"].replace({\"for_sale\":\"0\", \"sold\":\"1\"}, inplace = True) \n",
    "print(new_df.head())"
   ]
  },
  {
   "cell_type": "code",
   "execution_count": 10,
   "metadata": {},
   "outputs": [
    {
     "name": "stdout",
     "output_type": "stream",
     "text": [
      "['Massachusetts' 'Puerto Rico' 'New York' 'Maine' 'Connecticut'\n",
      " 'Rhode Island' 'Pennsylvania' 'New Hampshire']\n"
     ]
    }
   ],
   "source": [
    "#Finding unique values in \"Region\" \n",
    "print(new_df[\"state\"].unique()) "
   ]
  },
  {
   "cell_type": "code",
   "execution_count": 11,
   "metadata": {},
   "outputs": [
    {
     "name": "stdout",
     "output_type": "stream",
     "text": [
      "  status  bed  bath  acre_lot              city state  zip_code  house_size  \\\n",
      "0      0    1     1     20.20         Wilbraham     0      1095        1751   \n",
      "1      1    1     2      0.28            Agawam     0      1030        1060   \n",
      "2      0    4     2      0.16       Springfield     0      1105        1402   \n",
      "3      0    5     1      0.13           Holyoke     0      1040        1327   \n",
      "4      0    3     1      0.13  West Springfield     0      1089        1715   \n",
      "\n",
      "    price  \n",
      "0  299000  \n",
      "1  300000  \n",
      "2  199900  \n",
      "3  300000  \n",
      "4  299000  \n"
     ]
    },
    {
     "name": "stderr",
     "output_type": "stream",
     "text": [
      "C:\\Users\\imjha\\AppData\\Local\\Temp\\ipykernel_6504\\3517597274.py:2: FutureWarning: A value is trying to be set on a copy of a DataFrame or Series through chained assignment using an inplace method.\n",
      "The behavior will change in pandas 3.0. This inplace method will never work because the intermediate object on which we are setting values always behaves as a copy.\n",
      "\n",
      "For example, when doing 'df[col].method(value, inplace=True)', try using 'df.method({col: value}, inplace=True)' or df[col] = df[col].method(value) instead, to perform the operation inplace on the original object.\n",
      "\n",
      "\n",
      "  new_df['state'].replace({'Massachusetts':'0','Puerto Rico':'1','New York':'2','Maine':' 3','Connecticut':'4','Rhode Island':'5','Pennsylvania':'6','New Hampshire':'7'}, inplace = True)\n"
     ]
    }
   ],
   "source": [
    "#Replacing string values with int\n",
    "new_df['state'].replace({'Massachusetts':'0','Puerto Rico':'1','New York':'2','Maine':' 3','Connecticut':'4','Rhode Island':'5','Pennsylvania':'6','New Hampshire':'7'}, inplace = True)\n",
    "print(new_df.head())"
   ]
  },
  {
   "cell_type": "code",
   "execution_count": 12,
   "metadata": {},
   "outputs": [
    {
     "name": "stdout",
     "output_type": "stream",
     "text": [
      "(8046, 9)\n",
      "  status  bed  bath  acre_lot              city state  zip_code  house_size  \\\n",
      "0      0    1     1     20.20         Wilbraham     0      1095        1751   \n",
      "1      1    1     2      0.28            Agawam     0      1030        1060   \n",
      "2      0    4     2      0.16       Springfield     0      1105        1402   \n",
      "3      0    5     1      0.13           Holyoke     0      1040        1327   \n",
      "4      0    3     1      0.13  West Springfield     0      1089        1715   \n",
      "\n",
      "    price  \n",
      "0  299000  \n",
      "1  300000  \n",
      "2  199900  \n",
      "3  300000  \n",
      "4  299000  \n"
     ]
    }
   ],
   "source": [
    "#Describing data after preprocessing \n",
    "print(new_df.shape) \n",
    "print(new_df.head())"
   ]
  },
  {
   "cell_type": "code",
   "execution_count": 16,
   "metadata": {},
   "outputs": [
    {
     "data": {
      "image/png": "[encoded data removed]",
      "text/plain": [
       "<Figure size 600x600 with 1 Axes>"
      ]
     },
     "metadata": {},
     "output_type": "display_data"
    }
   ],
   "source": [
    "\n",
    "new_df.status.value_counts()\n",
    "plt.figure(figsize=(6,6))\n",
    "sns.countplot(x='status', data=new_df)\n",
    "plt.title('status Label')\n",
    "plt.show()"
   ]
  },
  {
   "cell_type": "code",
   "execution_count": 1,
   "metadata": {},
   "outputs": [
    {
     "name": "stderr",
     "output_type": "stream",
     "text": [
      "C:\\Users\\imjha\\AppData\\Local\\Temp\\ipykernel_12464\\1882945463.py:1: DeprecationWarning: \n",
      "Pyarrow will become a required dependency of pandas in the next major release of pandas (pandas 3.0),\n",
      "(to allow more performant data types, such as the Arrow string type, and better interoperability with other libraries)\n",
      "but was not found to be installed on your system.\n",
      "If this would cause problems for you,\n",
      "please provide us feedback at https://github.com/pandas-dev/pandas/issues/54466\n",
      "        \n",
      "  import pandas as pd\n"
     ]
    },
    {
     "name": "stdout",
     "output_type": "stream",
     "text": [
      "Synthetic real estate data has been generated and saved to synthetic_realestate.csv\n"
     ]
    }
   ],
   "source": [
    "import pandas as pd\n",
    "from sklearn.datasets import make_classification\n",
    "\n",
    "# Load the real estate dataset\n",
    "df = pd.read_csv(\"realestate.csv\")\n",
    "\n",
    "# Define parameters for synthetic data generation\n",
    "n_samples = len(df)  # Use the same number of samples as the original dataset\n",
    "n_features = len(df.columns)  # Use the same number of features as the original dataset\n",
    "\n",
    "# Generate synthetic data\n",
    "X_synthetic, y_synthetic = make_classification(\n",
    "    n_classes=2,\n",
    "    class_sep=0.5,\n",
    "    weights=[0.05, 0.95],\n",
    "    n_informative=n_features,\n",
    "    n_redundant=0,\n",
    "    flip_y=0,\n",
    "    n_features=n_features,\n",
    "    n_clusters_per_class=1,\n",
    "    n_samples=n_samples,\n",
    "    random_state=10\n",
    ")\n",
    "\n",
    "# Create a DataFrame for the synthetic data\n",
    "synthetic_df = pd.DataFrame(X_synthetic, columns=df.columns)\n",
    "\n",
    "# Assign synthetic labels to the 'price' column\n",
    "synthetic_df['price'] = y_synthetic\n",
    "\n",
    "# Save the synthetic dataset to a new CSV file\n",
    "synthetic_df.to_csv(\"synthetic_realestate.csv\", index=False)\n",
    "\n",
    "print(\"Synthetic real estate data has been generated and saved to synthetic_realestate.csv\")\n"
   ]
  },
  {
   "cell_type": "code",
   "execution_count": 6,
   "metadata": {},
   "outputs": [],
   "source": [
    "from sklearn.model_selection import train_test_split\n",
    "  \n",
    "# split into 70:30 ration\n",
    "X_train, X_test, y_train, y_test = train_test_split(X, y, test_size = 0.3, random_state = 0)"
   ]
  },
  {
   "cell_type": "code",
   "execution_count": 9,
   "metadata": {},
   "outputs": [],
   "source": [
    "from imblearn.over_sampling import SMOTE\n",
    "sm = SMOTE(random_state=42)\n",
    "X_res, y_res = sm.fit_resample(X_train, y_train)"
   ]
  },
  {
   "cell_type": "code",
   "execution_count": 10,
   "metadata": {},
   "outputs": [
    {
     "name": "stdout",
     "output_type": "stream",
     "text": [
      "Number transactions X_train dataset:  (700, 2)\n",
      "Number transactions y_train dataset:  (700,)\n",
      "Number transactions X_test dataset:  (300, 2)\n",
      "Number transactions y_test dataset:  (300,)\n"
     ]
    }
   ],
   "source": [
    "# describes info about train and test set\n",
    "print(\"Number transactions X_train dataset: \", X_train.shape)\n",
    "print(\"Number transactions y_train dataset: \", y_train.shape)\n",
    "print(\"Number transactions X_test dataset: \", X_test.shape)\n",
    "print(\"Number transactions y_test dataset: \", y_test.shape)"
   ]
  },
  {
   "cell_type": "code",
   "execution_count": null,
   "metadata": {},
   "outputs": [],
   "source": []
  }
 ],
 "metadata": {
  "kernelspec": {
   "display_name": "Python 3",
   "language": "python",
   "name": "python3"
  },
  "language_info": {
   "codemirror_mode": {
    "name": "ipython",
    "version": 3
   },
   "file_extension": ".py",
   "mimetype": "text/x-python",
   "name": "python",
   "nbconvert_exporter": "python",
   "pygments_lexer": "ipython3",
   "version": "3.12.0"
  }
 },
 "nbformat": 4,
 "nbformat_minor": 2
}
