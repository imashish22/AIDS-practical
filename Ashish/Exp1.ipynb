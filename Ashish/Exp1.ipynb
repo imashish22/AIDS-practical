{
 "cells": [
  {
   "cell_type": "code",
   "execution_count": 1,
   "id": "9708f0e3-3a4a-4d0a-aadf-7bcf9c65e66f",
   "metadata": {},
   "outputs": [
    {
     "name": "stderr",
     "output_type": "stream",
     "text": [
      "C:\\Users\\imjha\\AppData\\Local\\Temp\\ipykernel_11356\\2162656668.py:1: DeprecationWarning: \n",
      "Pyarrow will become a required dependency of pandas in the next major release of pandas (pandas 3.0),\n",
      "(to allow more performant data types, such as the Arrow string type, and better interoperability with other libraries)\n",
      "but was not found to be installed on your system.\n",
      "If this would cause problems for you,\n",
      "please provide us feedback at https://github.com/pandas-dev/pandas/issues/54466\n",
      "        \n",
      "  import pandas as pd\n"
     ]
    }
   ],
   "source": [
    "import pandas as pd\n",
    "import numpy as np"
   ]
  },
  {
   "cell_type": "code",
   "execution_count": 2,
   "id": "77a68b8f-87ee-471d-8038-e4d7a0f9e9c7",
   "metadata": {},
   "outputs": [],
   "source": [
    "df = pd.read_csv(\"realEstate.csv\")"
   ]
  },
  {
   "cell_type": "code",
   "execution_count": 3,
   "id": "f0faa635-a9ec-44d1-a8ae-e356eaf4dac8",
   "metadata": {},
   "outputs": [
    {
     "name": "stdout",
     "output_type": "stream",
     "text": [
      "['status', 'bed', 'bath', 'acre_lot', 'city', 'state', 'zip_code', 'house_size', 'price']\n"
     ]
    }
   ],
   "source": [
    "columns = list(df.columns)\n",
    "print(columns)"
   ]
  },
  {
   "cell_type": "code",
   "execution_count": 4,
   "id": "9848fa1d-cd9c-4964-a6ad-b48c5b479242",
   "metadata": {},
   "outputs": [
    {
     "name": "stdout",
     "output_type": "stream",
     "text": [
      "     status  bed  bath  acre_lot              city          state  zip_code  \\\n",
      "0  for_sale  1.0     1     20.20         Wilbraham  Massachusetts      1095   \n",
      "1      sold  1.0     2      0.28            Agawam  Massachusetts      1030   \n",
      "2  for_sale  4.0     2      0.16       Springfield  Massachusetts      1105   \n",
      "3  for_sale  5.0     1      0.13           Holyoke  Massachusetts      1040   \n",
      "4  for_sale  3.0     1      0.13  West Springfield  Massachusetts      1089   \n",
      "\n",
      "   house_size   price  \n",
      "0        1751  299000  \n",
      "1        1060  300000  \n",
      "2        1402  199900  \n",
      "3        1327  300000  \n",
      "4        1715  299000  \n"
     ]
    }
   ],
   "source": [
    "print(df.head()) "
   ]
  },
  {
   "cell_type": "code",
   "execution_count": 5,
   "id": "f07197c0-ff0f-422b-a9d5-9d4e7ac39b52",
   "metadata": {},
   "outputs": [
    {
     "name": "stdout",
     "output_type": "stream",
     "text": [
      "               bed         bath      acre_lot      zip_code   house_size  \\\n",
      "count  8034.000000  8046.000000   8046.000000   8046.000000  8046.000000   \n",
      "mean      2.985935     1.499006     29.657785   4722.435123  1503.524981   \n",
      "std       1.424362     0.500030   1576.631171   3374.635053   292.290974   \n",
      "min       1.000000     1.000000      0.000000    601.000000   500.000000   \n",
      "25%       2.000000     1.000000      0.220000   2888.000000  1259.000000   \n",
      "50%       3.000000     1.000000      0.570000   6021.000000  1502.000000   \n",
      "75%       4.000000     2.000000      1.940000   6107.000000  1746.000000   \n",
      "max       5.000000     2.000000  99999.000000  95000.000000  3999.000000   \n",
      "\n",
      "              price  \n",
      "count  8.046000e+03  \n",
      "mean   4.836585e+05  \n",
      "std    1.002053e+06  \n",
      "min    1.400000e+04  \n",
      "25%    1.758000e+05  \n",
      "50%    2.900000e+05  \n",
      "75%    4.500000e+05  \n",
      "max    1.600000e+07  \n"
     ]
    }
   ],
   "source": [
    "print(df.describe()) "
   ]
  },
  {
   "cell_type": "code",
   "execution_count": 6,
   "id": "99117269-fd9d-4700-9306-eeb08d0bd8d9",
   "metadata": {},
   "outputs": [
    {
     "name": "stdout",
     "output_type": "stream",
     "text": [
      "status         0\n",
      "bed           12\n",
      "bath           0\n",
      "acre_lot       0\n",
      "city           0\n",
      "state          0\n",
      "zip_code       0\n",
      "house_size     0\n",
      "price          0\n",
      "dtype: int64\n",
      "Missing values distribution: \n",
      "status        0.000000\n",
      "bed           0.001491\n",
      "bath          0.000000\n",
      "acre_lot      0.000000\n",
      "city          0.000000\n",
      "state         0.000000\n",
      "zip_code      0.000000\n",
      "house_size    0.000000\n",
      "price         0.000000\n",
      "dtype: float64\n"
     ]
    }
   ],
   "source": [
    "new_df = df\n",
    "#new_df.isnull()\n",
    "#Checking for null values \n",
    "print(new_df.isnull().sum()) \n",
    "print(\"Missing values distribution: \")\n",
    "print(new_df.isnull().mean())\n",
    "#print(new_df.shape) \n",
    "#new_df.duplicated()"
   ]
  },
  {
   "cell_type": "code",
   "execution_count": 7,
   "id": "ff5c8b32-4d4e-4bd3-98aa-16e076f8bd4c",
   "metadata": {},
   "outputs": [
    {
     "name": "stdout",
     "output_type": "stream",
     "text": [
      "True\n",
      "0       False\n",
      "1       False\n",
      "2       False\n",
      "3       False\n",
      "4       False\n",
      "        ...  \n",
      "8041    False\n",
      "8042    False\n",
      "8043    False\n",
      "8044    False\n",
      "8045    False\n",
      "Length: 8046, dtype: bool\n",
      "(8046, 9)\n"
     ]
    }
   ],
   "source": [
    "print(new_df.duplicated().any()) \n",
    "print(new_df.duplicated())\n",
    "print(new_df.shape)"
   ]
  },
  {
   "cell_type": "code",
   "execution_count": 8,
   "id": "d199f999",
   "metadata": {},
   "outputs": [
    {
     "name": "stdout",
     "output_type": "stream",
     "text": [
      "Column datatypes: \n",
      "status         object\n",
      "bed           float64\n",
      "bath            int64\n",
      "acre_lot      float64\n",
      "city           object\n",
      "state          object\n",
      "zip_code        int64\n",
      "house_size      int64\n",
      "price           int64\n",
      "dtype: object\n"
     ]
    }
   ],
   "source": [
    "print(\"Column datatypes: \")\n",
    "print(new_df.dtypes)"
   ]
  },
  {
   "cell_type": "code",
   "execution_count": null,
   "id": "a12d283a",
   "metadata": {},
   "outputs": [],
   "source": []
  },
  {
   "cell_type": "code",
   "execution_count": 9,
   "id": "47471cf6",
   "metadata": {},
   "outputs": [
    {
     "name": "stdout",
     "output_type": "stream",
     "text": [
      "  status  bed  bath  acre_lot              city          state  zip_code  \\\n",
      "0      0  1.0     1     20.20         Wilbraham  Massachusetts      1095   \n",
      "1      1  1.0     2      0.28            Agawam  Massachusetts      1030   \n",
      "2      0  4.0     2      0.16       Springfield  Massachusetts      1105   \n",
      "3      0  5.0     1      0.13           Holyoke  Massachusetts      1040   \n",
      "4      0  3.0     1      0.13  West Springfield  Massachusetts      1089   \n",
      "\n",
      "   house_size   price  \n",
      "0        1751  299000  \n",
      "1        1060  300000  \n",
      "2        1402  199900  \n",
      "3        1327  300000  \n",
      "4        1715  299000  \n",
      "(8046, 9)\n"
     ]
    },
    {
     "name": "stderr",
     "output_type": "stream",
     "text": [
      "C:\\Users\\imjha\\AppData\\Local\\Temp\\ipykernel_11356\\2061100409.py:1: FutureWarning: A value is trying to be set on a copy of a DataFrame or Series through chained assignment using an inplace method.\n",
      "The behavior will change in pandas 3.0. This inplace method will never work because the intermediate object on which we are setting values always behaves as a copy.\n",
      "\n",
      "For example, when doing 'df[col].method(value, inplace=True)', try using 'df.method({col: value}, inplace=True)' or df[col] = df[col].method(value) instead, to perform the operation inplace on the original object.\n",
      "\n",
      "\n",
      "  new_df[\"status\"].replace({\"for_sale\":\"0\", \"sold\":\"1\"}, inplace = True)\n"
     ]
    }
   ],
   "source": [
    "new_df[\"status\"].replace({\"for_sale\":\"0\", \"sold\":\"1\"}, inplace = True) \n",
    "print(new_df.head())\n",
    "print(new_df.shape) "
   ]
  },
  {
   "cell_type": "code",
   "execution_count": 10,
   "id": "7aa9a33a",
   "metadata": {},
   "outputs": [
    {
     "name": "stdout",
     "output_type": "stream",
     "text": [
      "['Massachusetts' 'Puerto Rico' 'New York' 'Maine' 'Connecticut'\n",
      " 'Rhode Island' 'Pennsylvania' 'New Hampshire']\n"
     ]
    }
   ],
   "source": [
    "print(new_df[\"state\"].unique()) "
   ]
  },
  {
   "cell_type": "code",
   "execution_count": 11,
   "id": "7a60ccc8",
   "metadata": {},
   "outputs": [
    {
     "name": "stdout",
     "output_type": "stream",
     "text": [
      "  status  bed  bath  acre_lot              city state  zip_code  house_size  \\\n",
      "0      0  1.0     1     20.20         Wilbraham     0      1095        1751   \n",
      "1      1  1.0     2      0.28            Agawam     0      1030        1060   \n",
      "2      0  4.0     2      0.16       Springfield     0      1105        1402   \n",
      "3      0  5.0     1      0.13           Holyoke     0      1040        1327   \n",
      "4      0  3.0     1      0.13  West Springfield     0      1089        1715   \n",
      "\n",
      "    price  \n",
      "0  299000  \n",
      "1  300000  \n",
      "2  199900  \n",
      "3  300000  \n",
      "4  299000  \n"
     ]
    },
    {
     "name": "stderr",
     "output_type": "stream",
     "text": [
      "C:\\Users\\imjha\\AppData\\Local\\Temp\\ipykernel_11356\\371166098.py:1: FutureWarning: A value is trying to be set on a copy of a DataFrame or Series through chained assignment using an inplace method.\n",
      "The behavior will change in pandas 3.0. This inplace method will never work because the intermediate object on which we are setting values always behaves as a copy.\n",
      "\n",
      "For example, when doing 'df[col].method(value, inplace=True)', try using 'df.method({col: value}, inplace=True)' or df[col] = df[col].method(value) instead, to perform the operation inplace on the original object.\n",
      "\n",
      "\n",
      "  new_df['state'].replace({'Massachusetts':'0','Puerto Rico':'1','New York':'2','Maine':' 3','Connecticut':'4','Rhode Island':'5','Pennsylvania':'6','New Hampshire':'7'}, inplace = True)\n"
     ]
    }
   ],
   "source": [
    "new_df['state'].replace({'Massachusetts':'0','Puerto Rico':'1','New York':'2','Maine':' 3','Connecticut':'4','Rhode Island':'5','Pennsylvania':'6','New Hampshire':'7'}, inplace = True)\n",
    "print(new_df.head())"
   ]
  },
  {
   "cell_type": "code",
   "execution_count": 12,
   "id": "6217fa94",
   "metadata": {},
   "outputs": [
    {
     "name": "stdout",
     "output_type": "stream",
     "text": [
      "(8046, 9)\n",
      "  status  bed  bath  acre_lot              city state  zip_code  house_size  \\\n",
      "0      0  1.0     1     20.20         Wilbraham     0      1095        1751   \n",
      "1      1  1.0     2      0.28            Agawam     0      1030        1060   \n",
      "2      0  4.0     2      0.16       Springfield     0      1105        1402   \n",
      "3      0  5.0     1      0.13           Holyoke     0      1040        1327   \n",
      "4      0  3.0     1      0.13  West Springfield     0      1089        1715   \n",
      "\n",
      "    price  \n",
      "0  299000  \n",
      "1  300000  \n",
      "2  199900  \n",
      "3  300000  \n",
      "4  299000  \n"
     ]
    }
   ],
   "source": [
    "print(new_df.shape) \n",
    "print(new_df.head())"
   ]
  },
  {
   "cell_type": "code",
   "execution_count": 13,
   "id": "cbbe2625",
   "metadata": {},
   "outputs": [],
   "source": [
    "new_df.to_csv('realestate1.csv',header= True, index=False)"
   ]
  }
 ],
 "metadata": {
  "kernelspec": {
   "display_name": "Python 3 (ipykernel)",
   "language": "python",
   "name": "python3"
  },
  "language_info": {
   "codemirror_mode": {
    "name": "ipython",
    "version": 3
   },
   "file_extension": ".py",
   "mimetype": "text/x-python",
   "name": "python",
   "nbconvert_exporter": "python",
   "pygments_lexer": "ipython3",
   "version": "3.12.0"
  }
 },
 "nbformat": 4,
 "nbformat_minor": 5
}
